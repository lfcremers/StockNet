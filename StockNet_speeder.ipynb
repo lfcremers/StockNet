{
 "cells": [
  {
   "cell_type": "code",
   "execution_count": 236,
   "id": "beca8a19",
   "metadata": {},
   "outputs": [],
   "source": [
    "## this approach works\n",
    "import os\n",
    "os.chdir('/')"
   ]
  },
  {
   "cell_type": "code",
   "execution_count": 237,
   "id": "0699774a",
   "metadata": {},
   "outputs": [],
   "source": [
    "os.chdir('Users/lcremers/phone_sync/test')"
   ]
  },
  {
   "cell_type": "code",
   "execution_count": 238,
   "id": "fabaf4df",
   "metadata": {},
   "outputs": [],
   "source": [
    "recordings=os.listdir()\n",
    "#other improvements:\n",
    "#only recordings in the directory in case there's other stuff"
   ]
  },
  {
   "cell_type": "code",
   "execution_count": 239,
   "id": "d6478832",
   "metadata": {},
   "outputs": [
    {
     "data": {
      "text/plain": [
       "['Reid Hoffman and Sam Altman  AI Field Notes-tPJIpx3KscY-128k-1657476995487.mp3',\n",
       " 'WSJ The Challenge of Being Human in the Age of AI.mp3',\n",
       " 'Elon Musk on how to build the future  interview with Sam Altman-LsYnnI1H5rA-128k-1655080479156.mp3',\n",
       " '.DS_Store',\n",
       " 'Andrew White – Intro to Regulation Technology (RegTech) and a Master Class in Company...-hEzeaNEVG4I-160k-1654061186416.mp3',\n",
       " 'The Problems with Big Tech | The New Founding Project Ep. 4.mp3',\n",
       " 'Heights George Weigel on John Paul II.mp3',\n",
       " 'KDM - How to Stop Feeling Overwhelmed-R2hHyfsuZtQ-160k-1656117754092.mp3',\n",
       " 'Sam Altman OpenAI CEO on GPT-4, ChatGPT, and the Future of AI  Lex Fridman Podcast #367-L_Guz73e6fw-160k-1656712782851.mp3',\n",
       " 'Amy Wax and the Limits of Academic Freedom-icpnjF5MES8-128k-1657395331019.mp3',\n",
       " 'Discussing Caesarism | The Matthew Peterson Show Conversations Ep. 1.mp3',\n",
       " 'The Winding Path of Progress  Sam Altman  Talks at Google-iRwk9UajXFg-128k-1655657703335.mp3',\n",
       " 'Unveiling the New Founding Talent Network | The New Founding Project Ep. 2.mp3',\n",
       " 'Reframing Without Limits-iIGcw1Oelxk-160k-1655567630741.mp3',\n",
       " 'How to Win Friends and Influence People | The Matthew Peterson Show Ep. 36.mp3',\n",
       " '24 6.22.22_Entrepreneurial_Vocation_1.mp3',\n",
       " \"Travellin' Man | Andrew Patrick White and FundApps.mp3\",\n",
       " '33 5.14.18-Gaudete-et-Exsultate-1.mp3']"
      ]
     },
     "execution_count": 239,
     "metadata": {},
     "output_type": "execute_result"
    }
   ],
   "source": [
    "recordings"
   ]
  },
  {
   "cell_type": "code",
   "execution_count": 240,
   "id": "3cef98c1",
   "metadata": {},
   "outputs": [],
   "source": [
    "if not os.path.exists('./new_recs'):\n",
    "    os.mkdir(\"new_recs\")\n",
    "if not os.path.exists('./tried'):\n",
    "    os.mkdir(\"tried\")"
   ]
  },
  {
   "cell_type": "code",
   "execution_count": 241,
   "id": "f91d74b9",
   "metadata": {},
   "outputs": [],
   "source": [
    "def get_kwds(name):\n",
    "    name=name.replace(\",\", \" \")#.replace(\"-\",\" \")\n",
    "    name=name.replace(\"  \",\" \")\n",
    "    words = name.split(\" \")\n",
    "    main_words=[]\n",
    "    for w in words:\n",
    "        if w[0].isupper():\n",
    "            main_words.append(w)\n",
    "    longest_words = sorted(words,key=len)\n",
    "    if longest_words[-1] in main_words:\n",
    "        del main_words[main_words.index(longest_words[-1])]\n",
    "    if len(main_words)<3 and len(words)>4:\n",
    "        for i in range(2,5):\n",
    "            if longest_words[-i] not in main_words:\n",
    "                main_words.append(longest_words[-i])\n",
    "    return main_words"
   ]
  },
  {
   "cell_type": "code",
   "execution_count": 242,
   "id": "99411196",
   "metadata": {},
   "outputs": [],
   "source": [
    "def dir_proof(string):\n",
    "    string=list(string)\n",
    "    for i in range(len(string)):\n",
    "        if string[i]==\" \":\n",
    "            string[i]=r'\\ '\n",
    "        if string[i]==\"&\":\n",
    "            string[i]=r'\\&'\n",
    "        if string[i]==\"'\":\n",
    "            string[i]=r'\\''\n",
    "        if string[i]==\"(\":\n",
    "            string[i]=r'\\('\n",
    "        if string[i]==\")\":\n",
    "            string[i]=r'\\)'\n",
    "    string = \"\".join(string)\n",
    "    return string"
   ]
  },
  {
   "cell_type": "code",
   "execution_count": 243,
   "id": "7f2ad70f",
   "metadata": {},
   "outputs": [],
   "source": [
    "def filter_recordings(recordings):\n",
    "    i=0\n",
    "    while i < len(recordings):\n",
    "        if recordings[i][0]=='.' or '.' not in recordings[i]:\n",
    "            recordings.remove(recordings[i])\n",
    "            continue\n",
    "        i=i+1\n",
    "    return recordings"
   ]
  },
  {
   "cell_type": "code",
   "execution_count": 244,
   "id": "c80e9569",
   "metadata": {
    "scrolled": true
   },
   "outputs": [
    {
     "name": "stderr",
     "output_type": "stream",
     "text": [
      "sh:  The New Founding Project Ep. 4.mp3: command not found\n",
      "sox FAIL sox: Not enough input filenames specified\n",
      "\n",
      "sh:  The New Founding Project Ep. 4.mp3: command not found\n",
      "usage: mv [-f | -i | -n] [-hv] source target\n",
      "       mv [-f | -i | -n] [-v] source ... directory\n",
      "mv: rename The_Problems_Big_Tech_The_New_Project_Ep..mp3 to ./new_recs/The_Problems_Big_Tech_The_New_Project_Ep..mp3: No such file or directory\n",
      "sh:  The Matthew Peterson Show Conversations Ep. 1.mp3: command not found\n",
      "sox FAIL sox: Not enough input filenames specified\n",
      "\n",
      "sh:  The Matthew Peterson Show Conversations Ep. 1.mp3: command not found\n",
      "usage: mv [-f | -i | -n] [-hv] source target\n",
      "       mv [-f | -i | -n] [-v] source ... directory\n",
      "mv: rename Discussing_Caesarism_The_Matthew_Peterson_Show_Ep..mp3 to ./new_recs/Discussing_Caesarism_The_Matthew_Peterson_Show_Ep..mp3: No such file or directory\n",
      "sh:  The New Founding Project Ep. 2.mp3: command not found\n",
      "sox FAIL sox: Not enough input filenames specified\n",
      "\n",
      "sh:  The New Founding Project Ep. 2.mp3: command not found\n",
      "usage: mv [-f | -i | -n] [-hv] source target\n",
      "       mv [-f | -i | -n] [-v] source ... directory\n",
      "mv: rename New_Founding_Talent_Network_The_New_Founding_Project_Ep..mp3 to ./new_recs/New_Founding_Talent_Network_The_New_Founding_Project_Ep..mp3: No such file or directory\n",
      "sh:  The Matthew Peterson Show Ep. 36.mp3: command not found\n",
      "sox FAIL sox: Not enough input filenames specified\n",
      "\n",
      "sh:  The Matthew Peterson Show Ep. 36.mp3: command not found\n",
      "usage: mv [-f | -i | -n] [-hv] source target\n",
      "       mv [-f | -i | -n] [-v] source ... directory\n",
      "mv: rename How_Win_Friends_People_The_Matthew_Peterson_Show_Ep..mp3 to ./new_recs/How_Win_Friends_People_The_Matthew_Peterson_Show_Ep..mp3: No such file or directory\n",
      "sh:  Andrew Patrick White and FundApps.mp3: command not found\n",
      "sox FAIL sox: Not enough input filenames specified\n",
      "\n",
      "sh:  Andrew Patrick White and FundApps.mp3: command not found\n",
      "usage: mv [-f | -i | -n] [-hv] source target\n",
      "       mv [-f | -i | -n] [-v] source ... directory\n",
      "mv: rename Travellin'_Man_Andrew_Patrick_White.mp3 to ./new_recs/Travellin'_Man_Andrew_Patrick_White.mp3: No such file or directory\n",
      "sox WARN tempo: tempo clipped 7 samples; decrease volume?\n"
     ]
    }
   ],
   "source": [
    "for mp3 in filter_recordings(recordings):\n",
    "    new_title=\"_\".join(get_kwds(mp3))+\".mp3\"\n",
    "    os.system(\"sox old_mp3 new_title tempo 1.4\".replace(\"old_mp3\",dir_proof(mp3)).replace(\"new_title\",dir_proof(new_title)))\n",
    "    os.system(\"mv old_mp3 ./tried\".replace(\"old_mp3\",dir_proof(mp3)))\n",
    "    os.system(\"mv new_title ./new_recs\".replace(\"new_title\",dir_proof(new_title)))\n",
    "\n"
   ]
  },
  {
   "cell_type": "code",
   "execution_count": null,
   "id": "3f9b1375",
   "metadata": {},
   "outputs": [],
   "source": []
  },
  {
   "cell_type": "code",
   "execution_count": null,
   "id": "7204eb1a",
   "metadata": {},
   "outputs": [],
   "source": []
  },
  {
   "cell_type": "code",
   "execution_count": null,
   "id": "0fe6f0a6",
   "metadata": {},
   "outputs": [],
   "source": []
  },
  {
   "cell_type": "code",
   "execution_count": null,
   "id": "06d79566",
   "metadata": {},
   "outputs": [],
   "source": []
  },
  {
   "cell_type": "code",
   "execution_count": null,
   "id": "69de1a47",
   "metadata": {},
   "outputs": [],
   "source": []
  },
  {
   "cell_type": "code",
   "execution_count": null,
   "id": "a9ce1cfb",
   "metadata": {},
   "outputs": [],
   "source": []
  }
 ],
 "metadata": {
  "kernelspec": {
   "display_name": "Python 3 (ipykernel)",
   "language": "python",
   "name": "python3"
  },
  "language_info": {
   "codemirror_mode": {
    "name": "ipython",
    "version": 3
   },
   "file_extension": ".py",
   "mimetype": "text/x-python",
   "name": "python",
   "nbconvert_exporter": "python",
   "pygments_lexer": "ipython3",
   "version": "3.8.13"
  }
 },
 "nbformat": 4,
 "nbformat_minor": 5
}
