{
 "cells": [
  {
   "cell_type": "code",
   "execution_count": 1,
   "id": "cf758006",
   "metadata": {},
   "outputs": [],
   "source": [
    "import subprocess\n"
   ]
  },
  {
   "cell_type": "code",
   "execution_count": 2,
   "id": "d9c87e9d",
   "metadata": {},
   "outputs": [
    {
     "name": "stdout",
     "output_type": "stream",
     "text": [
      "Geeks 4 Geeks\n"
     ]
    },
    {
     "data": {
      "text/plain": [
       "<subprocess.Popen at 0x7fcb548c7f10>"
      ]
     },
     "execution_count": 2,
     "metadata": {},
     "output_type": "execute_result"
    }
   ],
   "source": [
    "subprocess.Popen('echo \"Geeks 4 Geeks\"', shell=True)\n"
   ]
  },
  {
   "cell_type": "code",
   "execution_count": 5,
   "id": "52add374",
   "metadata": {},
   "outputs": [
    {
     "name": "stderr",
     "output_type": "stream",
     "text": [
      "/bin/sh: line 0: cd: Documents/test: No such file or directory\n"
     ]
    },
    {
     "data": {
      "text/plain": [
       "<subprocess.Popen at 0x7fcb548c7a00>"
      ]
     },
     "execution_count": 5,
     "metadata": {},
     "output_type": "execute_result"
    },
    {
     "name": "stdout",
     "output_type": "stream",
     "text": [
      "App.js\n",
      "CONTRIBUTING.md\n",
      "LICENSE\n",
      "README.md\n",
      "StockNet_speeder.ipynb\n",
      "node_modules\n",
      "package-lock.json\n",
      "package.json\n",
      "public\n",
      "src\n"
     ]
    }
   ],
   "source": [
    "subprocess.Popen('cd Documents/test', shell=True)\n",
    "subprocess.Popen('ls', shell=True)"
   ]
  },
  {
   "cell_type": "code",
   "execution_count": 4,
   "id": "23d724b9",
   "metadata": {},
   "outputs": [
    {
     "data": {
      "text/plain": [
       "<subprocess.Popen at 0x7fcb54902190>"
      ]
     },
     "execution_count": 4,
     "metadata": {},
     "output_type": "execute_result"
    }
   ],
   "source": [
    "subprocess.Popen('cd', shell=True)\n"
   ]
  },
  {
   "cell_type": "code",
   "execution_count": 6,
   "id": "beca8a19",
   "metadata": {},
   "outputs": [],
   "source": [
    "## this approach works\n",
    "import os\n",
    "os.chdir('/')"
   ]
  },
  {
   "cell_type": "code",
   "execution_count": 7,
   "id": "0699774a",
   "metadata": {},
   "outputs": [],
   "source": [
    "os.chdir('Users/lcremers/Documents/test')"
   ]
  },
  {
   "cell_type": "code",
   "execution_count": 25,
   "id": "fabaf4df",
   "metadata": {},
   "outputs": [],
   "source": [
    "x=os.listdir()"
   ]
  },
  {
   "cell_type": "code",
   "execution_count": 26,
   "id": "4c4fb38f",
   "metadata": {},
   "outputs": [
    {
     "data": {
      "text/plain": [
       "['Eric Schmidt and Jared Cohen at the Council on Foreign Relations-eJAMD5p5tQo-128k-1658601946035.mp3',\n",
       " 'Eric Schmidt at MIT Media Lab-GayfZYfaCSA-128k-1658601986169.mp3',\n",
       " 'Eric Schmidt on technology, innovation & the global economy-Z2X7eadOcDw-128k-1658601981499.mp3']"
      ]
     },
     "execution_count": 26,
     "metadata": {},
     "output_type": "execute_result"
    }
   ],
   "source": [
    "x"
   ]
  },
  {
   "cell_type": "code",
   "execution_count": 12,
   "id": "f91d74b9",
   "metadata": {},
   "outputs": [],
   "source": [
    "def get_kwds(name):\n",
    "    name=name.replace(\",\", \" \").replace(\"-\",\" \")\n",
    "    words = name.split(\" \")\n",
    "    main_words=[]\n",
    "    for w in words:\n",
    "        if w[0].isupper():\n",
    "            main_words.append(w)\n",
    "    return main_words"
   ]
  },
  {
   "cell_type": "code",
   "execution_count": 21,
   "id": "ed9e3eb1",
   "metadata": {},
   "outputs": [
    {
     "data": {
      "text/plain": [
       "'Eric_Schmidt_Jared_Cohen_Council_Foreign_Relations'"
      ]
     },
     "execution_count": 21,
     "metadata": {},
     "output_type": "execute_result"
    }
   ],
   "source": [
    "\"_\".join(get_kwds(x[0]))"
   ]
  },
  {
   "cell_type": "code",
   "execution_count": 154,
   "id": "1d211e7a",
   "metadata": {},
   "outputs": [],
   "source": [
    "def dir_proof(string):\n",
    "    string=list(string)\n",
    "    for i in range(len(string)):\n",
    "        if string[i]==\" \":\n",
    "            string[i]=r'\\ '\n",
    "    string = \"\".join(string)\n",
    "    return string"
   ]
  },
  {
   "cell_type": "code",
   "execution_count": 158,
   "id": "c80e9569",
   "metadata": {},
   "outputs": [
    {
     "data": {
      "text/plain": [
       "0"
      ]
     },
     "execution_count": 158,
     "metadata": {},
     "output_type": "execute_result"
    }
   ],
   "source": [
    "for mp3 in recordings:\n",
    "    new_title=\"_\".join(get_kwds(mp3))+\".mp3\"\n",
    "    os.system(\"sox old_mp3 new_title tempo 1.4\".replace(\"old_mp3\",dir_proof(old_name)).replace(\"new_title\",new_title))\n"
   ]
  },
  {
   "cell_type": "code",
   "execution_count": null,
   "id": "a55b3baa",
   "metadata": {},
   "outputs": [],
   "source": []
  }
 ],
 "metadata": {
  "kernelspec": {
   "display_name": "Python 3 (ipykernel)",
   "language": "python",
   "name": "python3"
  },
  "language_info": {
   "codemirror_mode": {
    "name": "ipython",
    "version": 3
   },
   "file_extension": ".py",
   "mimetype": "text/x-python",
   "name": "python",
   "nbconvert_exporter": "python",
   "pygments_lexer": "ipython3",
   "version": "3.8.13"
  }
 },
 "nbformat": 4,
 "nbformat_minor": 5
}
