{
 "cells": [
  {
   "cell_type": "code",
   "execution_count": 1,
   "id": "cf758006",
   "metadata": {},
   "outputs": [],
   "source": [
    "import subprocess\n"
   ]
  },
  {
   "cell_type": "code",
   "execution_count": 2,
   "id": "d9c87e9d",
   "metadata": {},
   "outputs": [
    {
     "name": "stdout",
     "output_type": "stream",
     "text": [
      "Geeks 4 Geeks\n"
     ]
    },
    {
     "data": {
      "text/plain": [
       "<subprocess.Popen at 0x7ff2082fa160>"
      ]
     },
     "execution_count": 2,
     "metadata": {},
     "output_type": "execute_result"
    }
   ],
   "source": [
    "subprocess.Popen('echo \"Geeks 4 Geeks\"', shell=True)\n"
   ]
  },
  {
   "cell_type": "code",
   "execution_count": 29,
   "id": "52add374",
   "metadata": {},
   "outputs": [
    {
     "data": {
      "text/plain": [
       "<subprocess.Popen at 0x7ff2082fad00>"
      ]
     },
     "execution_count": 29,
     "metadata": {},
     "output_type": "execute_result"
    },
    {
     "name": "stderr",
     "output_type": "stream",
     "text": [
      "/bin/sh: line 0: cd: Documents/test: No such file or directory\n"
     ]
    },
    {
     "name": "stdout",
     "output_type": "stream",
     "text": [
      "Applications\n",
      "Library\n",
      "System\n",
      "Users\n",
      "Volumes\n",
      "bin\n",
      "cores\n",
      "dev\n",
      "etc\n",
      "home\n",
      "opt\n",
      "private\n",
      "sbin\n",
      "tmp\n",
      "usr\n",
      "var\n"
     ]
    }
   ],
   "source": [
    "subprocess.Popen('cd Documents/test', shell=True)\n",
    "subprocess.Popen('ls', shell=True)"
   ]
  },
  {
   "cell_type": "code",
   "execution_count": 8,
   "id": "23d724b9",
   "metadata": {},
   "outputs": [
    {
     "data": {
      "text/plain": [
       "<subprocess.Popen at 0x7ff2082fa6a0>"
      ]
     },
     "execution_count": 8,
     "metadata": {},
     "output_type": "execute_result"
    }
   ],
   "source": [
    "subprocess.Popen('cd', shell=True)\n"
   ]
  },
  {
   "cell_type": "code",
   "execution_count": 33,
   "id": "beca8a19",
   "metadata": {},
   "outputs": [],
   "source": [
    "import os\n",
    "os.chdir('/')"
   ]
  },
  {
   "cell_type": "code",
   "execution_count": 34,
   "id": "0699774a",
   "metadata": {},
   "outputs": [],
   "source": [
    "os.chdir('Users/lcremers/Documents/test')"
   ]
  },
  {
   "cell_type": "code",
   "execution_count": 38,
   "id": "fabaf4df",
   "metadata": {},
   "outputs": [],
   "source": [
    "x=os.listdir()"
   ]
  },
  {
   "cell_type": "code",
   "execution_count": 54,
   "id": "f91d74b9",
   "metadata": {},
   "outputs": [],
   "source": [
    "def get_kwds(name):\n",
    "    name=name.replace(\",\", \" \").replace(\"-\",\" \")\n",
    "    words = name.split(\" \")\n",
    "    return words"
   ]
  },
  {
   "cell_type": "code",
   "execution_count": 55,
   "id": "ed9e3eb1",
   "metadata": {},
   "outputs": [
    {
     "data": {
      "text/plain": [
       "['Eric',\n",
       " 'Schmidt',\n",
       " 'and',\n",
       " 'Jared',\n",
       " 'Cohen',\n",
       " 'at',\n",
       " 'the',\n",
       " 'Council',\n",
       " 'on',\n",
       " 'Foreign',\n",
       " 'Relations-eJAMD5p5tQo-128k-1658601946035.mp3']"
      ]
     },
     "execution_count": 55,
     "metadata": {},
     "output_type": "execute_result"
    }
   ],
   "source": [
    "get_kwds(x[0])"
   ]
  },
  {
   "cell_type": "code",
   "execution_count": 58,
   "id": "c80e9569",
   "metadata": {},
   "outputs": [
    {
     "data": {
      "text/plain": [
       "'Eric Schmidt and Jared Cohen at the Council on Foreign Relations eJAMD5p5tQo 128k 1658601946035.mp3'"
      ]
     },
     "execution_count": 58,
     "metadata": {},
     "output_type": "execute_result"
    }
   ],
   "source": [
    "x[0].replace(\",\", \" \").replace(\"-\",\" \")"
   ]
  },
  {
   "cell_type": "code",
   "execution_count": null,
   "id": "404c44aa",
   "metadata": {},
   "outputs": [],
   "source": []
  }
 ],
 "metadata": {
  "kernelspec": {
   "display_name": "Python 3 (ipykernel)",
   "language": "python",
   "name": "python3"
  },
  "language_info": {
   "codemirror_mode": {
    "name": "ipython",
    "version": 3
   },
   "file_extension": ".py",
   "mimetype": "text/x-python",
   "name": "python",
   "nbconvert_exporter": "python",
   "pygments_lexer": "ipython3",
   "version": "3.8.13"
  }
 },
 "nbformat": 4,
 "nbformat_minor": 5
}
