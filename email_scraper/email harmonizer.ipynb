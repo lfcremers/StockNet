{
 "cells": [
  {
   "cell_type": "code",
   "execution_count": 1,
   "id": "61dcbcca",
   "metadata": {},
   "outputs": [],
   "source": [
    "import pandas as pd"
   ]
  },
  {
   "cell_type": "code",
   "execution_count": 330,
   "id": "3f04f748",
   "metadata": {},
   "outputs": [],
   "source": [
    "years = []\n",
    "for i in range(1970,1984):\n",
    "    years.append(pd.read_csv(\"CC_\"+str(i)+\"_alumni.csv\"))"
   ]
  },
  {
   "cell_type": "code",
   "execution_count": 385,
   "id": "9c2e75f4",
   "metadata": {},
   "outputs": [],
   "source": [
    "total_years = years[0]\n",
    "for year in years[1:]:\n",
    "    total_years = pd.concat([total_years,year])\n",
    "total_years = total_years.drop(total_years.columns[0],axis=1)\n",
    "# total_years = total_years.drop(total_years.columns[],axis=1)\n",
    "total_years.columns=  [\"Name\",\"Notes\",\"Year\", \"School\",\"email\",\"a\",\"b\",\"c\",\"d\",\"e\",\"f\",\"g\"]\n",
    "total_years = total_years[[\"Name\",\"Year\", \"School\",\"Notes\",\"email\",\"a\",\"b\",\"c\",\"d\",\"e\",\"f\",\"g\"]]\n",
    "total_years.index = range(len(total_years))\n",
    "\n"
   ]
  },
  {
   "cell_type": "code",
   "execution_count": 386,
   "id": "c923da88",
   "metadata": {},
   "outputs": [],
   "source": [
    "for row in total_years.index :\n",
    "    if \"?\" in str(total_years.loc[row][4:]):\n",
    "        total_years.at[row,\"email\"]=[i for i in list(total_years.loc[row][4:]) if str(i) != \"nan\"]\n",
    "        if \"@\" not in str(total_years.loc[row][4]):\n",
    "            emails=[]\n",
    "            for email in total_years.loc[row][4]:\n",
    "                indx=email.rindex(\"?\")\n",
    "                emails.append(email[:indx+1]+\"@\"+email[indx+1:])\n",
    "            total_years.at[row,\"email\"]=emails"
   ]
  },
  {
   "cell_type": "code",
   "execution_count": 387,
   "id": "c6c8c5ce",
   "metadata": {},
   "outputs": [],
   "source": [
    "total_years = total_years[total_years.columns[:5]]"
   ]
  },
  {
   "cell_type": "code",
   "execution_count": 388,
   "id": "901c129f",
   "metadata": {},
   "outputs": [],
   "source": [
    "for row in total_years.index:\n",
    "    if type(total_years.at[row,\"email\"])==list:\n",
    "        total_years.at[row,\"Notes\"]=str(total_years.at[row,\"Notes\"])+\"  \"+\", \".join(total_years.at[row,\"email\"])\n",
    "    else:\n",
    "        total_years.at[row,\"Notes\"]=str(total_years.at[row,\"Notes\"])+\"  \"+str(total_years.at[row,\"email\"])"
   ]
  },
  {
   "cell_type": "code",
   "execution_count": 389,
   "id": "f04cc692",
   "metadata": {},
   "outputs": [],
   "source": [
    "total_years[\"Email\"]=[\"\"]*len(total_years)"
   ]
  },
  {
   "cell_type": "code",
   "execution_count": 390,
   "id": "4a14c0db",
   "metadata": {},
   "outputs": [],
   "source": [
    "total_years[\"tentative_last_name\"]=[\"\"]*len(total_years)\n",
    "for row in total_years.index:\n",
    "    total_years.at[row,\"tentative_last_name\"] = total_years.loc[row,\"Name\"].split(\" \")[-1]"
   ]
  },
  {
   "cell_type": "code",
   "execution_count": 391,
   "id": "db63ecc4",
   "metadata": {},
   "outputs": [],
   "source": [
    "total_years.to_csv(\"class years 1970-1983.csv\")"
   ]
  },
  {
   "cell_type": "code",
   "execution_count": null,
   "id": "1ab0320b",
   "metadata": {},
   "outputs": [],
   "source": []
  },
  {
   "cell_type": "code",
   "execution_count": null,
   "id": "e5ddf980",
   "metadata": {},
   "outputs": [],
   "source": []
  },
  {
   "cell_type": "code",
   "execution_count": null,
   "id": "596e0c77",
   "metadata": {},
   "outputs": [],
   "source": []
  },
  {
   "cell_type": "code",
   "execution_count": null,
   "id": "7d26fe0d",
   "metadata": {},
   "outputs": [],
   "source": []
  },
  {
   "cell_type": "code",
   "execution_count": 359,
   "id": "2844b713",
   "metadata": {},
   "outputs": [
    {
     "data": {
      "text/plain": [
       "257"
      ]
     },
     "execution_count": 359,
     "metadata": {},
     "output_type": "execute_result"
    }
   ],
   "source": [
    "row"
   ]
  },
  {
   "cell_type": "code",
   "execution_count": null,
   "id": "c355b32f",
   "metadata": {},
   "outputs": [],
   "source": []
  },
  {
   "cell_type": "code",
   "execution_count": null,
   "id": "e906b839",
   "metadata": {},
   "outputs": [],
   "source": [
    "for row in total_years.index:\n",
    "    #see if the number of ?'s is equal to the length of the last name or last name +1\n",
    "    #if there is one ? then add the first initial of last name\n",
    "    #if so, add the tentative email to the end of the notes and to the email column"
   ]
  },
  {
   "cell_type": "code",
   "execution_count": null,
   "id": "4f119b65",
   "metadata": {},
   "outputs": [],
   "source": []
  },
  {
   "cell_type": "code",
   "execution_count": 348,
   "id": "a6406339",
   "metadata": {},
   "outputs": [
    {
     "name": "stdout",
     "output_type": "stream",
     "text": [
      "['al????@nygasp.org', 'in??@nygasp.org']\n",
      "other error\n",
      "['ae???@caa.columbia.edu', 'an?????????@yahoo.com', 'an?????????????@nychhc.org', 'an??????@hotmail.com']\n",
      "other error\n",
      "other error\n"
     ]
    }
   ],
   "source": [
    "for row in total_years.index:\n",
    "    if type(total_years.iloc[row][4])==list:\n",
    "        "
   ]
  },
  {
   "cell_type": "code",
   "execution_count": 350,
   "id": "5b45ee81",
   "metadata": {},
   "outputs": [
    {
     "data": {
      "text/plain": [
       "'Albert H. Bergeret'"
      ]
     },
     "execution_count": 350,
     "metadata": {},
     "output_type": "execute_result"
    }
   ],
   "source": [
    "total_years.loc[0,\"Name\"]"
   ]
  },
  {
   "cell_type": "code",
   "execution_count": 349,
   "id": "20ab7c85",
   "metadata": {},
   "outputs": [
    {
     "data": {
      "text/plain": [
       "['he', '', 'o']"
      ]
     },
     "execution_count": 349,
     "metadata": {},
     "output_type": "execute_result"
    }
   ],
   "source": [
    "\"hello\".split(\"l\")"
   ]
  },
  {
   "cell_type": "code",
   "execution_count": 317,
   "id": "2a89679f",
   "metadata": {},
   "outputs": [],
   "source": [
    "x = total_years.loc[0]\n",
    "x.index=range(len(x))"
   ]
  },
  {
   "cell_type": "code",
   "execution_count": null,
   "id": "16d9c2a6",
   "metadata": {},
   "outputs": [],
   "source": []
  },
  {
   "cell_type": "code",
   "execution_count": null,
   "id": "5d8bd02d",
   "metadata": {},
   "outputs": [],
   "source": []
  },
  {
   "cell_type": "code",
   "execution_count": 318,
   "id": "28652ec0",
   "metadata": {},
   "outputs": [
    {
     "name": "stdout",
     "output_type": "stream",
     "text": [
      "['al????nygasp.org', 'in??nygasp.org']\n",
      "['al????@nygasp.org', 'in??@nygasp.org']\n",
      "['aa????????????gmail.com', 'aa??????????caa.columbia.edu', 'aa?????fpt-law.com', 'aa??????nyc.rr.com', 'aa???rgti.com']\n",
      "['aa????????????@gmail.com', 'aa??????????@caa.columbia.edu', 'aa?????@fpt-law.com', 'aa??????@nyc.rr.com', 'aa???@rgti.com']\n",
      "['ab?????earthlink.net', 'aa?????earthlink.net']\n",
      "['ab?????@earthlink.net', 'aa?????@earthlink.net']\n",
      "['an???????gmail.com']\n",
      "['an???????@gmail.com']\n",
      "['am???????comcast.net', 'am???????mediaone.net']\n",
      "['am???????@comcast.net', 'am???????@mediaone.net']\n"
     ]
    }
   ],
   "source": [
    "for row in x.index :\n",
    "    if \"?\" in str(x.loc[row][4:]):\n",
    "        x.at[row,\"email\"]=[i for i in list(x.loc[row][4:]) if str(i) != \"nan\"]\n",
    "        if \"@\" not in str(x.loc[row][4]):\n",
    "            emails=[]\n",
    "            for email in x.loc[row][4]:\n",
    "                indx=email.rindex(\"?\")\n",
    "                emails.append(email[:indx+1]+\"@\"+email[indx+1:])\n",
    "            x.at[row,\"email\"]=emails\n",
    "                "
   ]
  },
  {
   "cell_type": "code",
   "execution_count": null,
   "id": "8dbaa924",
   "metadata": {},
   "outputs": [],
   "source": []
  },
  {
   "cell_type": "code",
   "execution_count": null,
   "id": "e2ac3ce9",
   "metadata": {},
   "outputs": [],
   "source": []
  },
  {
   "cell_type": "code",
   "execution_count": null,
   "id": "020595bb",
   "metadata": {},
   "outputs": [],
   "source": []
  },
  {
   "cell_type": "code",
   "execution_count": null,
   "id": "2b8a60b3",
   "metadata": {},
   "outputs": [],
   "source": []
  },
  {
   "cell_type": "code",
   "execution_count": null,
   "id": "36024038",
   "metadata": {},
   "outputs": [],
   "source": []
  },
  {
   "cell_type": "code",
   "execution_count": null,
   "id": "3bb54d73",
   "metadata": {},
   "outputs": [],
   "source": []
  },
  {
   "cell_type": "code",
   "execution_count": 256,
   "id": "25561de4",
   "metadata": {},
   "outputs": [
    {
     "data": {
      "text/plain": [
       "['al????nygasp.org', 'in??nygasp.org']"
      ]
     },
     "execution_count": 256,
     "metadata": {},
     "output_type": "execute_result"
    }
   ],
   "source": [
    "[i for i in list(x.loc[0][4:]) if str(i) != \"nan\"]"
   ]
  },
  {
   "cell_type": "code",
   "execution_count": 262,
   "id": "2d51c1e9",
   "metadata": {},
   "outputs": [],
   "source": [
    "x.at[row, email]=[i for i in list(x.loc[0][4:]) if str(i) != \"nan\"]"
   ]
  },
  {
   "cell_type": "code",
   "execution_count": 263,
   "id": "7f14ff68",
   "metadata": {},
   "outputs": [
    {
     "data": {
      "text/html": [
       "<div>\n",
       "<style scoped>\n",
       "    .dataframe tbody tr th:only-of-type {\n",
       "        vertical-align: middle;\n",
       "    }\n",
       "\n",
       "    .dataframe tbody tr th {\n",
       "        vertical-align: top;\n",
       "    }\n",
       "\n",
       "    .dataframe thead th {\n",
       "        text-align: right;\n",
       "    }\n",
       "</style>\n",
       "<table border=\"1\" class=\"dataframe\">\n",
       "  <thead>\n",
       "    <tr style=\"text-align: right;\">\n",
       "      <th></th>\n",
       "      <th>Name</th>\n",
       "      <th>Year</th>\n",
       "      <th>School</th>\n",
       "      <th>Notes</th>\n",
       "      <th>email</th>\n",
       "      <th>a</th>\n",
       "      <th>b</th>\n",
       "      <th>c</th>\n",
       "      <th>d</th>\n",
       "      <th>e</th>\n",
       "      <th>f</th>\n",
       "      <th>g</th>\n",
       "    </tr>\n",
       "  </thead>\n",
       "  <tbody>\n",
       "    <tr>\n",
       "      <th>0</th>\n",
       "      <td>Albert H. Bergeret</td>\n",
       "      <td>70</td>\n",
       "      <td>CC</td>\n",
       "      <td>70CC ahb30</td>\n",
       "      <td>al????nygasp.org</td>\n",
       "      <td>[al????nygasp.org, in??nygasp.org]</td>\n",
       "      <td>NaN</td>\n",
       "      <td>NaN</td>\n",
       "      <td>NaN</td>\n",
       "      <td>NaN</td>\n",
       "      <td>NaN</td>\n",
       "      <td>NaN</td>\n",
       "    </tr>\n",
       "    <tr>\n",
       "      <th>1</th>\n",
       "      <td>Aaron E. Albert</td>\n",
       "      <td>71</td>\n",
       "      <td>CC</td>\n",
       "      <td>71CC aea37</td>\n",
       "      <td>aa????????????gmail.com</td>\n",
       "      <td>aa??????????caa.columbia.edu</td>\n",
       "      <td>aa?????fpt-law.com</td>\n",
       "      <td>aa??????nyc.rr.com</td>\n",
       "      <td>aa???rgti.com</td>\n",
       "      <td>NaN</td>\n",
       "      <td>NaN</td>\n",
       "      <td>NaN</td>\n",
       "    </tr>\n",
       "    <tr>\n",
       "      <th>2</th>\n",
       "      <td>Alejandro Abella</td>\n",
       "      <td>72</td>\n",
       "      <td>CC</td>\n",
       "      <td>72CC aa727</td>\n",
       "      <td>ab?????earthlink.net</td>\n",
       "      <td>aa?????earthlink.net</td>\n",
       "      <td>NaN</td>\n",
       "      <td>NaN</td>\n",
       "      <td>NaN</td>\n",
       "      <td>NaN</td>\n",
       "      <td>NaN</td>\n",
       "      <td>NaN</td>\n",
       "    </tr>\n",
       "    <tr>\n",
       "      <th>3</th>\n",
       "      <td>Andrew J. Ames</td>\n",
       "      <td>73</td>\n",
       "      <td>CC</td>\n",
       "      <td>73CC aja65</td>\n",
       "      <td>an???????gmail.com</td>\n",
       "      <td>NaN</td>\n",
       "      <td>NaN</td>\n",
       "      <td>NaN</td>\n",
       "      <td>NaN</td>\n",
       "      <td>NaN</td>\n",
       "      <td>NaN</td>\n",
       "      <td>NaN</td>\n",
       "    </tr>\n",
       "    <tr>\n",
       "      <th>4</th>\n",
       "      <td>Anthony M. Ambriano</td>\n",
       "      <td>74</td>\n",
       "      <td>CC</td>\n",
       "      <td>74CC ama75</td>\n",
       "      <td>am???????comcast.net</td>\n",
       "      <td>am???????mediaone.net</td>\n",
       "      <td>NaN</td>\n",
       "      <td>NaN</td>\n",
       "      <td>NaN</td>\n",
       "      <td>NaN</td>\n",
       "      <td>NaN</td>\n",
       "      <td>NaN</td>\n",
       "    </tr>\n",
       "    <tr>\n",
       "      <th>5</th>\n",
       "      <td>Arne R. Anderson</td>\n",
       "      <td>75</td>\n",
       "      <td>CC</td>\n",
       "      <td>75CC ara30</td>\n",
       "      <td>ar???????????@gmail.com</td>\n",
       "      <td>NaN</td>\n",
       "      <td>NaN</td>\n",
       "      <td>NaN</td>\n",
       "      <td>NaN</td>\n",
       "      <td>NaN</td>\n",
       "      <td>NaN</td>\n",
       "      <td>NaN</td>\n",
       "    </tr>\n",
       "    <tr>\n",
       "      <th>6</th>\n",
       "      <td>Anthony A. Anemone</td>\n",
       "      <td>76</td>\n",
       "      <td>CC</td>\n",
       "      <td>76CC aaa55</td>\n",
       "      <td>To?????????@gmail.com</td>\n",
       "      <td>an??????@newschool.edu</td>\n",
       "      <td>aa????@wm.edu</td>\n",
       "      <td>aa????@facstaff.wm.edu</td>\n",
       "      <td>NaN</td>\n",
       "      <td>NaN</td>\n",
       "      <td>NaN</td>\n",
       "      <td>NaN</td>\n",
       "    </tr>\n",
       "    <tr>\n",
       "      <th>7</th>\n",
       "      <td>Alan R. Abrams</td>\n",
       "      <td>77</td>\n",
       "      <td>CC</td>\n",
       "      <td>77CC ara32</td>\n",
       "      <td>aa?????@commendacapital.com</td>\n",
       "      <td>NaN</td>\n",
       "      <td>NaN</td>\n",
       "      <td>NaN</td>\n",
       "      <td>NaN</td>\n",
       "      <td>NaN</td>\n",
       "      <td>NaN</td>\n",
       "      <td>NaN</td>\n",
       "    </tr>\n",
       "    <tr>\n",
       "      <th>8</th>\n",
       "      <td>Alberto M. Acosta</td>\n",
       "      <td>78</td>\n",
       "      <td>CC</td>\n",
       "      <td>78CC ama77</td>\n",
       "      <td>am??????@travelersmedical.com</td>\n",
       "      <td>NaN</td>\n",
       "      <td>NaN</td>\n",
       "      <td>NaN</td>\n",
       "      <td>NaN</td>\n",
       "      <td>NaN</td>\n",
       "      <td>NaN</td>\n",
       "      <td>NaN</td>\n",
       "    </tr>\n",
       "    <tr>\n",
       "      <th>9</th>\n",
       "      <td>Arthur S. Adler</td>\n",
       "      <td>79</td>\n",
       "      <td>CC</td>\n",
       "      <td>79CC 82LAW asa29</td>\n",
       "      <td>ad????@sullcrom.com</td>\n",
       "      <td>NaN</td>\n",
       "      <td>NaN</td>\n",
       "      <td>NaN</td>\n",
       "      <td>NaN</td>\n",
       "      <td>NaN</td>\n",
       "      <td>NaN</td>\n",
       "      <td>NaN</td>\n",
       "    </tr>\n",
       "    <tr>\n",
       "      <th>10</th>\n",
       "      <td>Anthony A. Artuso</td>\n",
       "      <td>80</td>\n",
       "      <td>CC</td>\n",
       "      <td>80CC aaa56</td>\n",
       "      <td>an????????????@comcast.net</td>\n",
       "      <td>an????????????@bms.com</td>\n",
       "      <td>NaN</td>\n",
       "      <td>NaN</td>\n",
       "      <td>NaN</td>\n",
       "      <td>NaN</td>\n",
       "      <td>NaN</td>\n",
       "      <td>NaN</td>\n",
       "    </tr>\n",
       "    <tr>\n",
       "      <th>11</th>\n",
       "      <td>Alain Benzaken</td>\n",
       "      <td>81</td>\n",
       "      <td>CC</td>\n",
       "      <td>81CC ab844</td>\n",
       "      <td>al???????????@caa.columbia.edu</td>\n",
       "      <td>al???????????@gmail.com</td>\n",
       "      <td>al???????????@yahoo.com</td>\n",
       "      <td>al???@troutsoft.com</td>\n",
       "      <td>NaN</td>\n",
       "      <td>NaN</td>\n",
       "      <td>NaN</td>\n",
       "      <td>NaN</td>\n",
       "    </tr>\n",
       "    <tr>\n",
       "      <th>12</th>\n",
       "      <td>Anthony F. Adamo</td>\n",
       "      <td>82</td>\n",
       "      <td>CC</td>\n",
       "      <td>82CC afa14</td>\n",
       "      <td>ad?????????@juno.com</td>\n",
       "      <td>NaN</td>\n",
       "      <td>NaN</td>\n",
       "      <td>NaN</td>\n",
       "      <td>NaN</td>\n",
       "      <td>NaN</td>\n",
       "      <td>NaN</td>\n",
       "      <td>NaN</td>\n",
       "    </tr>\n",
       "    <tr>\n",
       "      <th>13</th>\n",
       "      <td>Andrew Evan Abere</td>\n",
       "      <td>83</td>\n",
       "      <td>CC</td>\n",
       "      <td>83CC 86GSAS 87GSAS 91GSAS aea1</td>\n",
       "      <td>Sorry, your UNI has the following affiliation ...</td>\n",
       "      <td>NaN</td>\n",
       "      <td>NaN</td>\n",
       "      <td>NaN</td>\n",
       "      <td>NaN</td>\n",
       "      <td>NaN</td>\n",
       "      <td>NaN</td>\n",
       "      <td>NaN</td>\n",
       "    </tr>\n",
       "  </tbody>\n",
       "</table>\n",
       "</div>"
      ],
      "text/plain": [
       "                   Name  Year School                           Notes  \\\n",
       "0    Albert H. Bergeret    70     CC                      70CC ahb30   \n",
       "1       Aaron E. Albert    71     CC                      71CC aea37   \n",
       "2      Alejandro Abella    72     CC                      72CC aa727   \n",
       "3        Andrew J. Ames    73     CC                      73CC aja65   \n",
       "4   Anthony M. Ambriano    74     CC                      74CC ama75   \n",
       "5      Arne R. Anderson    75     CC                      75CC ara30   \n",
       "6    Anthony A. Anemone    76     CC                      76CC aaa55   \n",
       "7        Alan R. Abrams    77     CC                      77CC ara32   \n",
       "8     Alberto M. Acosta    78     CC                      78CC ama77   \n",
       "9       Arthur S. Adler    79     CC                79CC 82LAW asa29   \n",
       "10    Anthony A. Artuso    80     CC                      80CC aaa56   \n",
       "11       Alain Benzaken    81     CC                      81CC ab844   \n",
       "12     Anthony F. Adamo    82     CC                      82CC afa14   \n",
       "13    Andrew Evan Abere    83     CC  83CC 86GSAS 87GSAS 91GSAS aea1   \n",
       "\n",
       "                                                email  \\\n",
       "0                                    al????nygasp.org   \n",
       "1                             aa????????????gmail.com   \n",
       "2                                ab?????earthlink.net   \n",
       "3                                  an???????gmail.com   \n",
       "4                                am???????comcast.net   \n",
       "5                             ar???????????@gmail.com   \n",
       "6                               To?????????@gmail.com   \n",
       "7                         aa?????@commendacapital.com   \n",
       "8                       am??????@travelersmedical.com   \n",
       "9                                 ad????@sullcrom.com   \n",
       "10                         an????????????@comcast.net   \n",
       "11                     al???????????@caa.columbia.edu   \n",
       "12                               ad?????????@juno.com   \n",
       "13  Sorry, your UNI has the following affiliation ...   \n",
       "\n",
       "                                     a                        b  \\\n",
       "0   [al????nygasp.org, in??nygasp.org]                      NaN   \n",
       "1         aa??????????caa.columbia.edu       aa?????fpt-law.com   \n",
       "2                 aa?????earthlink.net                      NaN   \n",
       "3                                  NaN                      NaN   \n",
       "4                am???????mediaone.net                      NaN   \n",
       "5                                  NaN                      NaN   \n",
       "6               an??????@newschool.edu            aa????@wm.edu   \n",
       "7                                  NaN                      NaN   \n",
       "8                                  NaN                      NaN   \n",
       "9                                  NaN                      NaN   \n",
       "10              an????????????@bms.com                      NaN   \n",
       "11             al???????????@gmail.com  al???????????@yahoo.com   \n",
       "12                                 NaN                      NaN   \n",
       "13                                 NaN                      NaN   \n",
       "\n",
       "                         c              d    e    f    g  \n",
       "0                      NaN            NaN  NaN  NaN  NaN  \n",
       "1       aa??????nyc.rr.com  aa???rgti.com  NaN  NaN  NaN  \n",
       "2                      NaN            NaN  NaN  NaN  NaN  \n",
       "3                      NaN            NaN  NaN  NaN  NaN  \n",
       "4                      NaN            NaN  NaN  NaN  NaN  \n",
       "5                      NaN            NaN  NaN  NaN  NaN  \n",
       "6   aa????@facstaff.wm.edu            NaN  NaN  NaN  NaN  \n",
       "7                      NaN            NaN  NaN  NaN  NaN  \n",
       "8                      NaN            NaN  NaN  NaN  NaN  \n",
       "9                      NaN            NaN  NaN  NaN  NaN  \n",
       "10                     NaN            NaN  NaN  NaN  NaN  \n",
       "11     al???@troutsoft.com            NaN  NaN  NaN  NaN  \n",
       "12                     NaN            NaN  NaN  NaN  NaN  \n",
       "13                     NaN            NaN  NaN  NaN  NaN  "
      ]
     },
     "execution_count": 263,
     "metadata": {},
     "output_type": "execute_result"
    }
   ],
   "source": [
    "x"
   ]
  },
  {
   "cell_type": "code",
   "execution_count": 246,
   "id": "639ca9c1",
   "metadata": {},
   "outputs": [
    {
     "data": {
      "text/plain": [
       "['al????nygasp.org', 'in??nygasp.org']"
      ]
     },
     "execution_count": 246,
     "metadata": {},
     "output_type": "execute_result"
    }
   ],
   "source": [
    "[i for i in list(x.loc[0][4:]) if str(i) != \"nan\"]"
   ]
  },
  {
   "cell_type": "code",
   "execution_count": 248,
   "id": "a4a4c3df",
   "metadata": {},
   "outputs": [
    {
     "data": {
      "text/plain": [
       "<pandas.core.indexing._LocIndexer at 0x7fb5818e14f0>"
      ]
     },
     "execution_count": 248,
     "metadata": {},
     "output_type": "execute_result"
    }
   ],
   "source": [
    "x.loc(row)"
   ]
  },
  {
   "cell_type": "code",
   "execution_count": 250,
   "id": "e656053d",
   "metadata": {},
   "outputs": [
    {
     "data": {
      "text/plain": [
       "Name      Albert H. Bergeret\n",
       "Year                      70\n",
       "School                    CC\n",
       "Notes             70CC ahb30\n",
       "email       al????nygasp.org\n",
       "a             in??nygasp.org\n",
       "b                        NaN\n",
       "c                        NaN\n",
       "d                        NaN\n",
       "e                        NaN\n",
       "f                        NaN\n",
       "g                        NaN\n",
       "Name: 0, dtype: object"
      ]
     },
     "execution_count": 250,
     "metadata": {},
     "output_type": "execute_result"
    }
   ],
   "source": [
    "x.loc[0]"
   ]
  },
  {
   "cell_type": "code",
   "execution_count": null,
   "id": "ecd9f155",
   "metadata": {},
   "outputs": [],
   "source": []
  }
 ],
 "metadata": {
  "kernelspec": {
   "display_name": "Python 3 (ipykernel)",
   "language": "python",
   "name": "python3"
  },
  "language_info": {
   "codemirror_mode": {
    "name": "ipython",
    "version": 3
   },
   "file_extension": ".py",
   "mimetype": "text/x-python",
   "name": "python",
   "nbconvert_exporter": "python",
   "pygments_lexer": "ipython3",
   "version": "3.8.13"
  }
 },
 "nbformat": 4,
 "nbformat_minor": 5
}
