{
 "cells": [
  {
   "cell_type": "code",
   "execution_count": 722,
   "id": "2e664c97",
   "metadata": {},
   "outputs": [
    {
     "data": {
      "text/html": [
       "<style>.container { width:100% !important; }</style>"
      ],
      "text/plain": [
       "<IPython.core.display.HTML object>"
      ]
     },
     "metadata": {},
     "output_type": "display_data"
    }
   ],
   "source": [
    "from IPython.display import display, HTML\n",
    "display(HTML(\"<style>.container { width:100% !important; }</style>\"))"
   ]
  },
  {
   "cell_type": "code",
   "execution_count": 156,
   "id": "73ac472a",
   "metadata": {},
   "outputs": [],
   "source": [
    "from selenium import webdriver\n",
    "from selenium.webdriver.common.keys import Keys\n",
    "from selenium.webdriver.common.by import By\n",
    "from selenium.webdriver.support.ui import Select\n",
    "from selenium.common.exceptions import NoSuchElementException\n",
    "\n",
    "import pandas as pd\n",
    "import time\n",
    "#brew install geckodrivee"
   ]
  },
  {
   "cell_type": "code",
   "execution_count": 611,
   "id": "b756fe82",
   "metadata": {},
   "outputs": [],
   "source": [
    "def error_parse(error):\n",
    "    if \"trustee\" in error:\n",
    "        return \"CUTrustee\"\n",
    "    return error\n",
    "\n",
    "def email_chars(email):\n",
    "    if email:\n",
    "        if '•' in email:\n",
    "            sublen = len(email.split(\"@\")[0])-2\n",
    "            return email.split(\"@\")[0][:2]+\"?\"*sublen+email.split(\"@\")[1]\n",
    "    return email"
   ]
  },
  {
   "cell_type": "code",
   "execution_count": 666,
   "id": "00699f86",
   "metadata": {},
   "outputs": [],
   "source": [
    "driver = webdriver.Firefox()"
   ]
  },
  {
   "cell_type": "code",
   "execution_count": 667,
   "id": "540a2605",
   "metadata": {},
   "outputs": [],
   "source": [
    "###to shut things down:\n",
    "# elem.clear()\n",
    "# elem.send_keys(\"pycon\")\n",
    "# elem.send_keys(Keys.RETURN)\n",
    "# assert \"No results found.\" not in driver.page_source\n",
    "# driver.close()\n",
    "\n",
    "###getting other things done:\n",
    "# dir(By)\n",
    "# print(driver.title)\n",
    "# print(dir(driver))\n",
    "# \n",
    "# ids = elem.find_elements_by_xpath('//*[@id]')\n",
    "\n",
    "#re.search(r\"\\d\", string) -- find first digit in the string\n",
    "\n",
    "##getting the components on the page:\n",
    "# ids = elem.find_elements_by_xpath('//*[@id]')\n",
    "# for ii in ids:\n",
    "#     #print ii.tag_name\n",
    "#     print(ii.get_attribute('id'))"
   ]
  },
  {
   "cell_type": "code",
   "execution_count": 800,
   "id": "ae1f603a",
   "metadata": {},
   "outputs": [],
   "source": [
    "driver.get(\"https://tools.alumni.columbia.edu/uni/SelectUser.aspx\")"
   ]
  },
  {
   "cell_type": "code",
   "execution_count": 801,
   "id": "c9cfda50",
   "metadata": {},
   "outputs": [],
   "source": [
    "elem = driver.find_element_by_id(\"container\")"
   ]
  },
  {
   "cell_type": "code",
   "execution_count": 802,
   "id": "266e1ecb",
   "metadata": {},
   "outputs": [],
   "source": [
    "firstname = elem.find_elements_by_id(\"ctl00_rightcol_ph_first_tb\")"
   ]
  },
  {
   "cell_type": "code",
   "execution_count": 803,
   "id": "c5ff9581",
   "metadata": {},
   "outputs": [],
   "source": [
    "lastname = elem.find_elements_by_id(\"ctl00_rightcol_ph_last_tb\")\n",
    "searchbutton=elem.find_elements_by_id(\"ctl00_rightcol_ph_Button2\")\n",
    "school=elem.find_elements_by_id(\"ctl00_rightcol_ph_school_ddl_Input\")"
   ]
  },
  {
   "cell_type": "code",
   "execution_count": null,
   "id": "78dc00fd",
   "metadata": {
    "scrolled": false
   },
   "outputs": [
    {
     "name": "stdout",
     "output_type": "stream",
     "text": [
      "here\n",
      "hiccup on:\n",
      "<class 'Exception'>\n",
      "j\n",
      "f\n",
      "here\n",
      "here\n",
      "here\n",
      "here\n",
      "here\n",
      "hiccup on:\n",
      "<class 'Exception'>\n",
      "j\n",
      "k\n",
      "here\n",
      "here\n",
      "here\n",
      "here\n",
      "here\n",
      "here\n",
      "here\n",
      "here\n",
      "here\n",
      "here\n",
      "here\n",
      "here\n",
      "here\n",
      "here\n",
      "here\n",
      "here\n",
      "here\n",
      "here\n",
      "here\n",
      "here\n",
      "here\n",
      "here\n",
      "here\n",
      "here\n",
      "here\n",
      "here\n",
      "here\n",
      "here\n"
     ]
    }
   ],
   "source": [
    "# alumni = []\n",
    "# hiccup_letters = []\n",
    "# hiccup_emails = []\n",
    "for class_year in range(1970,1989):\n",
    "    for firstchar in \"jklmnopqrstuvwxyz\":\n",
    "        for lastchar in \"fghijklmnopqrstuvwxyz\":\n",
    "            try:\n",
    "                school=elem.find_elements_by_id(\"ctl00_rightcol_ph_school_ddl_Input\")\n",
    "                time.sleep(1)\n",
    "                school[0].click()\n",
    "                college=driver.find_element_by_id(\"ctl00_rightcol_ph_school_ddl_c6\").click()\n",
    "                year = elem.find_element_by_id(\"ctl00_rightcol_ph_year_ddl\")\n",
    "                year.click()\n",
    "                year.send_keys(str(class_year))\n",
    "\n",
    "                firstname[0].send_keys(firstchar)\n",
    "                lastname[0].send_keys(lastchar)\n",
    "                searchbutton[0].send_keys(Keys.ENTER)\n",
    "                time.sleep(3)\n",
    "                try:\n",
    "                    table = driver.find_element_by_id(\"ctl00_rightcol_ph_result_grid\")\n",
    "                except NoSuchElementException:\n",
    "                    time.sleep(5)\n",
    "                    try:\n",
    "                        table = driver.find_element_by_id(\"ctl00_rightcol_ph_result_grid\")\n",
    "                    except NoSuchElementException:\n",
    "                        time.sleep(15)\n",
    "                        table = driver.find_element_by_id(\"ctl00_rightcol_ph_result_grid\")\n",
    "\n",
    "                people = table.find_elements(By.TAG_NAME, \"tr\")\n",
    "                if len(people)>1:\n",
    "\n",
    "                    for person in people[1:]:\n",
    "\n",
    "                        info = person.text\n",
    "                        name = info.split(\"CC \")[0][:-4]\n",
    "                        other = \"\".join(info.split(\"'\")[1:])\n",
    "                        alumni.append([name,other,int(str(class_year)[2:]),\"CC\"])\n",
    "\n",
    "                    for record in alumni[(-len(people)+1):]:\n",
    "                        try:\n",
    "                            link = driver.find_element_by_link_text(record[0])\n",
    "                            link.click()\n",
    "                        except:\n",
    "                            driver.back()\n",
    "                            link = driver.find_element_by_link_text(record[0])\n",
    "                            link.click()\n",
    "                        try:\n",
    "                            time.sleep(2)\n",
    "                            email_table=driver.find_element_by_id(\"ctl00_leftcol_ph_emails_rbl\")\n",
    "                            email_list = email_table.find_elements(By.TAG_NAME, \"tr\")\n",
    "\n",
    "                            for emails in email_list:\n",
    "                                time.sleep(1)\n",
    "                                record.append(email_chars(emails.text))\n",
    "                                if len(record[-1])<2:\n",
    "                                    time.sleep(2)\n",
    "                                    record[-1]=email_chars(emails.text)\n",
    "                                    if len(record[-1])<2:\n",
    "\n",
    "                                        #if the email isn't copying into the list of emails:\n",
    "                                        raise Exception()\n",
    "                                        print(\"Check hiccup emails for email that isn't working for \"+str([person.text,emails.text]))\n",
    "                                        hiccup_emails.append([person.text,emails.text])\n",
    "\n",
    "                            driver.back()\n",
    "\n",
    "                        #if no emails come up:\n",
    "                        except NoSuchElementException:\n",
    "                            #record.append(email)\n",
    "                            try:\n",
    "                                error_message = driver.find_element_by_id(\"ctl00_rightcol_ph_ErrorPnl\")\n",
    "                                if type(error_message)!=str:\n",
    "                                    error_message = error_message.text\n",
    "                                record.append(error_parse(error_message))\n",
    "                            except NoSuchElementException:\n",
    "                                error_message = \"other error\"\n",
    "                                record.append(error_message)\n",
    "                                driver.back()\n",
    "                                continue\n",
    "\n",
    "            except Exception:\n",
    "                print(\"hiccup on:\")\n",
    "                print(Exception)\n",
    "                print(firstchar)\n",
    "                print(lastchar)\n",
    "                hiccup_letters.append([firstchar,lastchar])\n",
    "#                 \n",
    "            \n",
    "            driver.get(\"https://tools.alumni.columbia.edu/uni/SelectUser.aspx\")\n",
    "            attempts = 0\n",
    "            while attempts < 10:\n",
    "                try:\n",
    "                    driver.get(\"https://tools.alumni.columbia.edu/uni/SelectUser.aspx\")\n",
    "                    break\n",
    "                except:\n",
    "                    driver.refresh()\n",
    "                    time.wait(5)\n",
    "                    attempts = attempts + 1\n",
    "                    continue\n",
    "                \n",
    "            if attempts == 10:\n",
    "                print(\"SOMETHING WRONG: 10 ATTEMPTS & NOTHING FIXED\")\n",
    "                \n",
    "            elem = driver.find_element_by_id(\"container\")\n",
    "            firstname = elem.find_elements_by_id(\"ctl00_rightcol_ph_first_tb\")\n",
    "            lastname = elem.find_elements_by_id(\"ctl00_rightcol_ph_last_tb\")\n",
    "            searchbutton=elem.find_elements_by_id(\"ctl00_rightcol_ph_Button2\")\n",
    "            school=elem.find_elements_by_id(\"ctl00_rightcol_ph_school_ddl_Input\")\n",
    "            \n",
    "    pd.DataFrame(alumni).to_csv(\"CC_\"+str(class_year)+\"_alumni.csv\")\n",
    "            "
   ]
  },
  {
   "cell_type": "code",
   "execution_count": null,
   "id": "47ab81b6",
   "metadata": {},
   "outputs": [],
   "source": []
  },
  {
   "cell_type": "code",
   "execution_count": null,
   "id": "363f97dd",
   "metadata": {},
   "outputs": [],
   "source": []
  },
  {
   "cell_type": "code",
   "execution_count": null,
   "id": "07a1e509",
   "metadata": {},
   "outputs": [],
   "source": []
  },
  {
   "cell_type": "code",
   "execution_count": null,
   "id": "883c303e",
   "metadata": {},
   "outputs": [],
   "source": []
  },
  {
   "cell_type": "code",
   "execution_count": null,
   "id": "fd10ce19",
   "metadata": {},
   "outputs": [],
   "source": []
  },
  {
   "cell_type": "code",
   "execution_count": null,
   "id": "18ab8c06",
   "metadata": {},
   "outputs": [],
   "source": []
  },
  {
   "cell_type": "code",
   "execution_count": null,
   "id": "cc124310",
   "metadata": {},
   "outputs": [],
   "source": []
  },
  {
   "cell_type": "code",
   "execution_count": null,
   "id": "129b8d46",
   "metadata": {},
   "outputs": [],
   "source": []
  },
  {
   "cell_type": "code",
   "execution_count": null,
   "id": "7d55e998",
   "metadata": {},
   "outputs": [],
   "source": []
  },
  {
   "cell_type": "code",
   "execution_count": null,
   "id": "85523189",
   "metadata": {},
   "outputs": [],
   "source": []
  },
  {
   "cell_type": "code",
   "execution_count": null,
   "id": "0005388d",
   "metadata": {},
   "outputs": [],
   "source": []
  },
  {
   "cell_type": "code",
   "execution_count": null,
   "id": "0a5470d1",
   "metadata": {},
   "outputs": [],
   "source": []
  },
  {
   "cell_type": "code",
   "execution_count": null,
   "id": "cd5f8ef8",
   "metadata": {},
   "outputs": [],
   "source": []
  },
  {
   "cell_type": "code",
   "execution_count": null,
   "id": "c41e71a8",
   "metadata": {},
   "outputs": [],
   "source": []
  }
 ],
 "metadata": {
  "kernelspec": {
   "display_name": "Python 3 (ipykernel)",
   "language": "python",
   "name": "python3"
  },
  "language_info": {
   "codemirror_mode": {
    "name": "ipython",
    "version": 3
   },
   "file_extension": ".py",
   "mimetype": "text/x-python",
   "name": "python",
   "nbconvert_exporter": "python",
   "pygments_lexer": "ipython3",
   "version": "3.8.13"
  }
 },
 "nbformat": 4,
 "nbformat_minor": 5
}
